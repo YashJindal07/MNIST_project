{
  "nbformat": 4,
  "nbformat_minor": 0,
  "metadata": {
    "colab": {
      "provenance": [],
      "gpuType": "T4",
      "authorship_tag": "ABX9TyN6F1K36Ztimer4ddZShler",
      "include_colab_link": true
    },
    "kernelspec": {
      "name": "python3",
      "display_name": "Python 3"
    },
    "language_info": {
      "name": "python"
    },
    "accelerator": "GPU"
  },
  "cells": [
    {
      "cell_type": "markdown",
      "metadata": {
        "id": "view-in-github",
        "colab_type": "text"
      },
      "source": [
        "<a href=\"https://colab.research.google.com/github/YashJindal07/MNIST_project/blob/main/CNN.ipynb\" target=\"_parent\"><img src=\"https://colab.research.google.com/assets/colab-badge.svg\" alt=\"Open In Colab\"/></a>"
      ]
    },
    {
      "cell_type": "code",
      "execution_count": null,
      "metadata": {
        "id": "aWrLX-zrxV-W"
      },
      "outputs": [],
      "source": [
        "import torch\n",
        "import torch.nn as nn\n",
        "import torch.nn.functional as F\n",
        "from torch.utils.data import DataLoader\n",
        "from torchvision import datasets, transforms\n",
        "from torchvision.utils import make_grid\n",
        "\n",
        "\n",
        "import numpy as np\n",
        "import pandas as pd\n",
        "from sklearn.metrics import confusion_matrix\n",
        "import matplotlib.pyplot as plt\n",
        "%matplotlib inline"
      ]
    },
    {
      "cell_type": "code",
      "source": [
        "#converts image into a tensor of 4-D(no of images, height, width, colour channels)\n",
        "transform = transforms.ToTensor()\n"
      ],
      "metadata": {
        "id": "TyBRrlBbz_Lc"
      },
      "execution_count": null,
      "outputs": []
    },
    {
      "cell_type": "code",
      "source": [
        "# train data\n",
        "\n",
        "train_data = datasets.MNIST(root='/cnn_data',download=True, train=True,transform = transform)"
      ],
      "metadata": {
        "colab": {
          "base_uri": "https://localhost:8080/"
        },
        "id": "0hlLXxZ-0c4z",
        "outputId": "75cca31e-d691-4873-cd52-3b0d01e7bf5b"
      },
      "execution_count": null,
      "outputs": [
        {
          "output_type": "stream",
          "name": "stdout",
          "text": [
            "Downloading http://yann.lecun.com/exdb/mnist/train-images-idx3-ubyte.gz\n",
            "Failed to download (trying next):\n",
            "HTTP Error 403: Forbidden\n",
            "\n",
            "Downloading https://ossci-datasets.s3.amazonaws.com/mnist/train-images-idx3-ubyte.gz\n",
            "Downloading https://ossci-datasets.s3.amazonaws.com/mnist/train-images-idx3-ubyte.gz to /cnn_data/MNIST/raw/train-images-idx3-ubyte.gz\n"
          ]
        },
        {
          "output_type": "stream",
          "name": "stderr",
          "text": [
            "100%|██████████| 9912422/9912422 [00:02<00:00, 4169918.67it/s]\n"
          ]
        },
        {
          "output_type": "stream",
          "name": "stdout",
          "text": [
            "Extracting /cnn_data/MNIST/raw/train-images-idx3-ubyte.gz to /cnn_data/MNIST/raw\n",
            "\n",
            "Downloading http://yann.lecun.com/exdb/mnist/train-labels-idx1-ubyte.gz\n",
            "Failed to download (trying next):\n",
            "HTTP Error 403: Forbidden\n",
            "\n",
            "Downloading https://ossci-datasets.s3.amazonaws.com/mnist/train-labels-idx1-ubyte.gz\n",
            "Downloading https://ossci-datasets.s3.amazonaws.com/mnist/train-labels-idx1-ubyte.gz to /cnn_data/MNIST/raw/train-labels-idx1-ubyte.gz\n"
          ]
        },
        {
          "output_type": "stream",
          "name": "stderr",
          "text": [
            "100%|██████████| 28881/28881 [00:00<00:00, 134407.05it/s]\n"
          ]
        },
        {
          "output_type": "stream",
          "name": "stdout",
          "text": [
            "Extracting /cnn_data/MNIST/raw/train-labels-idx1-ubyte.gz to /cnn_data/MNIST/raw\n",
            "\n",
            "Downloading http://yann.lecun.com/exdb/mnist/t10k-images-idx3-ubyte.gz\n",
            "Failed to download (trying next):\n",
            "HTTP Error 403: Forbidden\n",
            "\n",
            "Downloading https://ossci-datasets.s3.amazonaws.com/mnist/t10k-images-idx3-ubyte.gz\n",
            "Downloading https://ossci-datasets.s3.amazonaws.com/mnist/t10k-images-idx3-ubyte.gz to /cnn_data/MNIST/raw/t10k-images-idx3-ubyte.gz\n"
          ]
        },
        {
          "output_type": "stream",
          "name": "stderr",
          "text": [
            "100%|██████████| 1648877/1648877 [00:01<00:00, 1268921.31it/s]\n"
          ]
        },
        {
          "output_type": "stream",
          "name": "stdout",
          "text": [
            "Extracting /cnn_data/MNIST/raw/t10k-images-idx3-ubyte.gz to /cnn_data/MNIST/raw\n",
            "\n",
            "Downloading http://yann.lecun.com/exdb/mnist/t10k-labels-idx1-ubyte.gz\n",
            "Failed to download (trying next):\n",
            "HTTP Error 403: Forbidden\n",
            "\n",
            "Downloading https://ossci-datasets.s3.amazonaws.com/mnist/t10k-labels-idx1-ubyte.gz\n",
            "Downloading https://ossci-datasets.s3.amazonaws.com/mnist/t10k-labels-idx1-ubyte.gz to /cnn_data/MNIST/raw/t10k-labels-idx1-ubyte.gz\n"
          ]
        },
        {
          "output_type": "stream",
          "name": "stderr",
          "text": [
            "100%|██████████| 4542/4542 [00:00<00:00, 3001028.48it/s]"
          ]
        },
        {
          "output_type": "stream",
          "name": "stdout",
          "text": [
            "Extracting /cnn_data/MNIST/raw/t10k-labels-idx1-ubyte.gz to /cnn_data/MNIST/raw\n",
            "\n"
          ]
        },
        {
          "output_type": "stream",
          "name": "stderr",
          "text": [
            "\n"
          ]
        }
      ]
    },
    {
      "cell_type": "code",
      "source": [
        "# test data\n",
        "\n",
        "test_data = datasets.MNIST(root='/cnn_data',download=True, train=False,transform = transform)"
      ],
      "metadata": {
        "id": "1eI-XJdz04k4"
      },
      "execution_count": null,
      "outputs": []
    },
    {
      "cell_type": "code",
      "source": [
        "train_data"
      ],
      "metadata": {
        "colab": {
          "base_uri": "https://localhost:8080/"
        },
        "id": "HfAA5K8U1DEH",
        "outputId": "5ebb02fd-8cc3-42d0-f32e-392e402240f5"
      },
      "execution_count": null,
      "outputs": [
        {
          "output_type": "execute_result",
          "data": {
            "text/plain": [
              "Dataset MNIST\n",
              "    Number of datapoints: 60000\n",
              "    Root location: /cnn_data\n",
              "    Split: Train\n",
              "    StandardTransform\n",
              "Transform: ToTensor()"
            ]
          },
          "metadata": {},
          "execution_count": 11
        }
      ]
    },
    {
      "cell_type": "code",
      "source": [
        "test_data"
      ],
      "metadata": {
        "colab": {
          "base_uri": "https://localhost:8080/"
        },
        "id": "CA4Rr0AS1Er2",
        "outputId": "9eff64c9-490f-43c3-f9f3-7602fb59e7db"
      },
      "execution_count": null,
      "outputs": [
        {
          "output_type": "execute_result",
          "data": {
            "text/plain": [
              "Dataset MNIST\n",
              "    Number of datapoints: 10000\n",
              "    Root location: /cnn_data\n",
              "    Split: Test\n",
              "    StandardTransform\n",
              "Transform: ToTensor()"
            ]
          },
          "metadata": {},
          "execution_count": 12
        }
      ]
    },
    {
      "cell_type": "code",
      "source": [
        "# create a small batch for images say 10\n",
        "train_loader = DataLoader(train_data, batch_size=10,shuffle=True)\n",
        "test_loader = DataLoader(test_data, batch_size=10,shuffle=False)"
      ],
      "metadata": {
        "id": "oeYGqDS_1GIj"
      },
      "execution_count": null,
      "outputs": []
    },
    {
      "cell_type": "code",
      "source": [
        "# define our CNN model\n",
        "# Describe the convolutional layer and what it's doing\n",
        "conv1 = nn.Conv2d(1,6,3,1)\n",
        "conv2 = nn.Conv2d(6,16,3,1)\n",
        "\n"
      ],
      "metadata": {
        "id": "u3bgIPmt4Exx"
      },
      "execution_count": null,
      "outputs": []
    },
    {
      "cell_type": "code",
      "source": [
        "# grab 1 MNIST/record image\n",
        "\n",
        "for i, (X_Train, y_train) in enumerate(train_data):\n",
        "  break"
      ],
      "metadata": {
        "id": "vQyYgs0p4aIs"
      },
      "execution_count": null,
      "outputs": []
    },
    {
      "cell_type": "code",
      "source": [
        "# model class\n",
        "class ConvolutionalNetwork(nn.Module):\n",
        "  def __init__(self):\n",
        "    super().__init__()\n",
        "    self.conv1= nn.Conv2d(1,6,3,1)\n",
        "    self.conv2= nn.Conv2d(6,16,3,1)\n",
        "    # fully connected layer\n",
        "    self.fc1 = nn.Linear(5*5*16, 120)\n",
        "    self.fc2 = nn.Linear(120, 84)\n",
        "    self.fc3 = nn.Linear(84, 10)\n",
        "\n",
        "  def forward(self, X):\n",
        "    X = F.relu(self.conv1(X))\n",
        "    X = F.max_pool2d(X, 2, 2) # 2x2 kernel and stride\n",
        "    # second pass\n",
        "    X = F.relu(self.conv2(X))\n",
        "    X = F.max_pool2d(X, 2, 2) # 2x2 kernel and stride\n",
        "\n",
        "    # review to flatten it out\n",
        "    X = X.view(-1,16*5*5) # negative so that we can vary the batch size\n",
        "\n",
        "    # fully connected layers\n",
        "    X= F.relu(self.fc1(X))\n",
        "    X= F.relu(self.fc2(X))\n",
        "    X= self.fc3(X)\n",
        "    return F.log_softmax(X, dim=1)"
      ],
      "metadata": {
        "id": "u3ho4AvM4oWb"
      },
      "execution_count": null,
      "outputs": []
    },
    {
      "cell_type": "code",
      "source": [
        "# create an instance of our model\n",
        "torch.manual_seed =41\n",
        "model = ConvolutionalNetwork()\n",
        "model"
      ],
      "metadata": {
        "colab": {
          "base_uri": "https://localhost:8080/"
        },
        "id": "iaCYeuTk4p1_",
        "outputId": "f4d21c11-6f38-4101-8850-5b225b48e6bf"
      },
      "execution_count": null,
      "outputs": [
        {
          "output_type": "execute_result",
          "data": {
            "text/plain": [
              "ConvolutionalNetwork(\n",
              "  (conv1): Conv2d(1, 6, kernel_size=(3, 3), stride=(1, 1))\n",
              "  (conv2): Conv2d(6, 16, kernel_size=(3, 3), stride=(1, 1))\n",
              "  (fc1): Linear(in_features=400, out_features=120, bias=True)\n",
              "  (fc2): Linear(in_features=120, out_features=84, bias=True)\n",
              "  (fc3): Linear(in_features=84, out_features=10, bias=True)\n",
              ")"
            ]
          },
          "metadata": {},
          "execution_count": 17
        }
      ]
    },
    {
      "cell_type": "code",
      "source": [
        "# loss function optimizer\n",
        "criterion = nn.CrossEntropyLoss()\n",
        "optimizer = torch.optim.Adam(model.parameters(), lr=0.001)"
      ],
      "metadata": {
        "id": "PBo1Pj5GClC-"
      },
      "execution_count": null,
      "outputs": []
    },
    {
      "cell_type": "code",
      "source": [
        "import time\n",
        "start_time = time.time()\n",
        "\n",
        "# create variables to track things\n",
        "epochs=5\n",
        "train_losses=[ ]\n",
        "test_losses=[ ]\n",
        "train_correct=[ ]\n",
        "test_correct=[ ]\n",
        "\n",
        "# for loop in epochs\n",
        "for i in range(epochs):\n",
        "  trn_corr = 0\n",
        "  tst_corr = 0\n",
        "\n",
        "\n",
        "\n",
        "  # train\n",
        "  for b,(X_train, y_train) in enumerate(train_loader):\n",
        "    b+=1 # start our batches at 1\n",
        "    y_pred = model(X_train) # get predicted values from the traiing set. not flattened\n",
        "    loss = criterion(y_pred, y_train) # how off are we? compare the predictions to correct answers in y_train\n",
        "\n",
        "    predicted = torch.max(y_pred.data, 1)[1] # add up number of corrrect predictions\n",
        "    batch_corr = (predicted == y_train).sum() # how many we got correct from this batch\n",
        "    trn_corr += batch_corr # keep track as we go alomg in training\n",
        "\n",
        "    # update your parameters\n",
        "    optimizer.zero_grad()\n",
        "    loss.backward()\n",
        "    optimizer.step()\n",
        "\n",
        "    # print out some results\n",
        "    if b%600 == 0:\n",
        "      print(f'Epoch: {i} Batch: {b}  Loss: {loss.item()}')\n",
        "\n",
        "  train_losses.append(loss)\n",
        "  train_correct.append(trn_corr)\n",
        "\n",
        "  # test\n",
        "  with torch.no_grad(): # no gradient so we don't update our weights and biases with test data\n",
        "    for b, (X_test, y_test) in enumerate(test_loader):\n",
        "       y_val = model(X_test)\n",
        "       predicted = torch.max(y_val.data, 1)[1] # adding up correct predictions\n",
        "       tst_corr += (predicted == y_test).sum()\n",
        "\n",
        "  loss  = criterion(y_val, y_test)\n",
        "  test_losses.append(loss)\n",
        "  test_correct.append(tst_corr)\n",
        "\n",
        "\n",
        "current_time = time.time()\n",
        "total = current_time - start_time\n",
        "print(f'Training Took:  {total/60} minutes!')\n",
        "\n",
        "\n",
        "\n",
        "\n",
        "\n",
        "\n"
      ],
      "metadata": {
        "id": "_wWIRyv0C3z3",
        "colab": {
          "base_uri": "https://localhost:8080/"
        },
        "outputId": "088a3478-4d1f-436d-d9b9-c2e57238473c"
      },
      "execution_count": null,
      "outputs": [
        {
          "output_type": "stream",
          "name": "stdout",
          "text": [
            "Epoch: 0 Batch: 600  Loss: 0.25816610455513\n",
            "Epoch: 0 Batch: 1200  Loss: 0.4001937508583069\n",
            "Epoch: 0 Batch: 1800  Loss: 0.1246405839920044\n",
            "Epoch: 0 Batch: 2400  Loss: 0.34820958971977234\n",
            "Epoch: 0 Batch: 3000  Loss: 0.04991669952869415\n",
            "Epoch: 0 Batch: 3600  Loss: 0.10683010518550873\n",
            "Epoch: 0 Batch: 4200  Loss: 0.33169159293174744\n",
            "Epoch: 0 Batch: 4800  Loss: 0.0005959327099844813\n",
            "Epoch: 0 Batch: 5400  Loss: 0.024639204144477844\n",
            "Epoch: 0 Batch: 6000  Loss: 0.631161093711853\n",
            "Epoch: 1 Batch: 600  Loss: 0.03133280575275421\n",
            "Epoch: 1 Batch: 1200  Loss: 0.0027504158206284046\n",
            "Epoch: 1 Batch: 1800  Loss: 0.20234569907188416\n",
            "Epoch: 1 Batch: 2400  Loss: 0.003772509517148137\n",
            "Epoch: 1 Batch: 3000  Loss: 0.09004924446344376\n",
            "Epoch: 1 Batch: 3600  Loss: 0.030506005510687828\n",
            "Epoch: 1 Batch: 4200  Loss: 0.006450359709560871\n",
            "Epoch: 1 Batch: 4800  Loss: 0.002538511995226145\n",
            "Epoch: 1 Batch: 5400  Loss: 0.0012410535709932446\n",
            "Epoch: 1 Batch: 6000  Loss: 0.008221600204706192\n",
            "Epoch: 2 Batch: 600  Loss: 0.0013827495276927948\n",
            "Epoch: 2 Batch: 1200  Loss: 0.05942565202713013\n",
            "Epoch: 2 Batch: 1800  Loss: 0.08065485954284668\n",
            "Epoch: 2 Batch: 2400  Loss: 0.011981280520558357\n",
            "Epoch: 2 Batch: 3000  Loss: 0.0043430146761238575\n",
            "Epoch: 2 Batch: 3600  Loss: 0.001563332392834127\n",
            "Epoch: 2 Batch: 4200  Loss: 0.1784631758928299\n",
            "Epoch: 2 Batch: 4800  Loss: 0.045508772134780884\n",
            "Epoch: 2 Batch: 5400  Loss: 0.01039663702249527\n",
            "Epoch: 2 Batch: 6000  Loss: 0.00020304443023633212\n",
            "Epoch: 3 Batch: 600  Loss: 9.512577889836393e-06\n",
            "Epoch: 3 Batch: 1200  Loss: 0.0014058246742933989\n",
            "Epoch: 3 Batch: 1800  Loss: 0.0005625682533718646\n",
            "Epoch: 3 Batch: 2400  Loss: 1.3935280549048912e-05\n",
            "Epoch: 3 Batch: 3000  Loss: 0.07705845683813095\n",
            "Epoch: 3 Batch: 3600  Loss: 0.0016382498433813453\n",
            "Epoch: 3 Batch: 4200  Loss: 0.0005435865605250001\n",
            "Epoch: 3 Batch: 4800  Loss: 0.00019159373186994344\n",
            "Epoch: 3 Batch: 5400  Loss: 0.0006783235585317016\n",
            "Epoch: 3 Batch: 6000  Loss: 0.003914226312190294\n",
            "Epoch: 4 Batch: 600  Loss: 0.00108218879904598\n",
            "Epoch: 4 Batch: 1200  Loss: 0.007073217071592808\n",
            "Epoch: 4 Batch: 1800  Loss: 0.013503198511898518\n",
            "Epoch: 4 Batch: 2400  Loss: 4.0766513848211616e-05\n",
            "Epoch: 4 Batch: 3000  Loss: 3.990814366261475e-05\n",
            "Epoch: 4 Batch: 3600  Loss: 0.00024991153622977436\n",
            "Epoch: 4 Batch: 4200  Loss: 0.0013139622751623392\n",
            "Epoch: 4 Batch: 4800  Loss: 0.04950842261314392\n",
            "Epoch: 4 Batch: 5400  Loss: 0.003434983314946294\n",
            "Epoch: 4 Batch: 6000  Loss: 7.171789184212685e-05\n",
            "Training Took:  3.1013416290283202 minutes!\n"
          ]
        }
      ]
    },
    {
      "cell_type": "code",
      "source": [
        "# graph the loss at epoch\n",
        "\n",
        "train_losses = [t1.item() for t1 in train_losses]\n",
        "plt.plot(train_losses, label = 'Training Loss')\n",
        "plt.plot(test_losses, label = 'Validation Losses')\n",
        "plt.title('Loss at epoch')\n",
        "plt.legend()"
      ],
      "metadata": {
        "colab": {
          "base_uri": "https://localhost:8080/",
          "height": 469
        },
        "id": "AG65yRdKQaX7",
        "outputId": "4c07e380-5a2c-44e3-d1ac-0457beedc09e"
      },
      "execution_count": null,
      "outputs": [
        {
          "output_type": "execute_result",
          "data": {
            "text/plain": [
              "<matplotlib.legend.Legend at 0x7cb4fca50a60>"
            ]
          },
          "metadata": {},
          "execution_count": 22
        },
        {
          "output_type": "display_data",
          "data": {
            "text/plain": [
              "<Figure size 640x480 with 1 Axes>"
            ],
            "image/png": "[encoded data removed]"
          },
          "metadata": {}
        }
      ]
    },
    {
      "cell_type": "code",
      "source": [
        "# graph the accuracy at ehe end of each epoch\n",
        "\n",
        "plt.plot([t/600 for t in train_correct], label = 'Training Accuracy')\n",
        "plt.plot([t/100 for t in test_correct], label = 'Validation Accuracy')\n",
        "plt.title('Accuracy at the end of each epoch')\n",
        "plt.legend()"
      ],
      "metadata": {
        "colab": {
          "base_uri": "https://localhost:8080/",
          "height": 469
        },
        "id": "9nd4oSzhW3ol",
        "outputId": "9c8a0e15-386b-4fe3-b1f0-fcd56f383895"
      },
      "execution_count": 38,
      "outputs": [
        {
          "output_type": "execute_result",
          "data": {
            "text/plain": [
              "<matplotlib.legend.Legend at 0x7cb4ffe76080>"
            ]
          },
          "metadata": {},
          "execution_count": 38
        },
        {
          "output_type": "display_data",
          "data": {
            "text/plain": [
              "<Figure size 640x480 with 1 Axes>"
            ],
            "image/png": "[encoded data removed]"
          },
          "metadata": {}
        }
      ]
    },
    {
      "cell_type": "code",
      "source": [
        "test_load_everything = DataLoader(test_data, batch_size=10000, shuffle = False)\n",
        "with torch.no_grad():\n",
        "  correct = 0\n",
        "  for X_test, y_test in test_load_everything:\n",
        "    y_val = model(X_test)\n",
        "    predicted = torch.max(y_val, 1)[1]\n",
        "    correct += (predicted == y_test).sum()"
      ],
      "metadata": {
        "id": "vCMbdUPeXcdX"
      },
      "execution_count": null,
      "outputs": []
    },
    {
      "cell_type": "code",
      "source": [
        "# did for correct\n",
        "correct.item()"
      ],
      "metadata": {
        "colab": {
          "base_uri": "https://localhost:8080/"
        },
        "id": "Nmo0tx6HX0Jv",
        "outputId": "a7646e4f-9957-40c7-ae7f-3bfb9d0fe53a"
      },
      "execution_count": null,
      "outputs": [
        {
          "output_type": "execute_result",
          "data": {
            "text/plain": [
              "9880"
            ]
          },
          "metadata": {},
          "execution_count": 28
        }
      ]
    },
    {
      "cell_type": "code",
      "source": [
        "# grab an image\n",
        "test_data[4142][1]"
      ],
      "metadata": {
        "colab": {
          "base_uri": "https://localhost:8080/"
        },
        "id": "HKg724LVYbVQ",
        "outputId": "8f111950-6cc9-4d40-efe3-b0d051fa21ee"
      },
      "execution_count": 40,
      "outputs": [
        {
          "output_type": "execute_result",
          "data": {
            "text/plain": [
              "7"
            ]
          },
          "metadata": {},
          "execution_count": 40
        }
      ]
    },
    {
      "cell_type": "code",
      "source": [
        "plt.imshow(test_data[4142][0].reshape(28,28)\n",
        ")"
      ],
      "metadata": {
        "colab": {
          "base_uri": "https://localhost:8080/",
          "height": 447
        },
        "id": "IFAfF-mEafoG",
        "outputId": "5805b90a-500d-4fb7-f9f7-d079bcaf0e91"
      },
      "execution_count": 42,
      "outputs": [
        {
          "output_type": "execute_result",
          "data": {
            "text/plain": [
              "<matplotlib.image.AxesImage at 0x7cb4fc54cfd0>"
            ]
          },
          "metadata": {},
          "execution_count": 42
        },
        {
          "output_type": "display_data",
          "data": {
            "text/plain": [
              "<Figure size 640x480 with 1 Axes>"
            ],
            "image/png": "[encoded data removed]"
          },
          "metadata": {}
        }
      ]
    },
    {
      "cell_type": "code",
      "source": [
        "# pass the image thru our model\n",
        "model.eval()\n",
        "with torch.no_grad():\n",
        "  new_prediction = model(test_data[4142][0].view(1,1,28,28))"
      ],
      "metadata": {
        "id": "lp02CcbzbVe-"
      },
      "execution_count": 43,
      "outputs": []
    },
    {
      "cell_type": "code",
      "source": [
        "new_prediction.argmax()"
      ],
      "metadata": {
        "colab": {
          "base_uri": "https://localhost:8080/"
        },
        "id": "qpATp_GCbs3d",
        "outputId": "28c3b079-2b06-4e84-b00c-e4d5e08ccaca"
      },
      "execution_count": 44,
      "outputs": [
        {
          "output_type": "execute_result",
          "data": {
            "text/plain": [
              "tensor(7)"
            ]
          },
          "metadata": {},
          "execution_count": 44
        }
      ]
    },
    {
      "cell_type": "code",
      "source": [
        "torch.save(model.state_dict(), 'MNIST_project.pt')\n",
        "\n",
        "new_model = ConvolutionalNetwork()\n",
        "new_model.load_state_dict(torch.load('MNIST_project.pt'))"
      ],
      "metadata": {
        "id": "COKGCz-Ybu1n",
        "colab": {
          "base_uri": "https://localhost:8080/"
        },
        "outputId": "da396e61-58e6-4b8c-954c-f8cb834586a0"
      },
      "execution_count": 45,
      "outputs": [
        {
          "output_type": "execute_result",
          "data": {
            "text/plain": [
              "<All keys matched successfully>"
            ]
          },
          "metadata": {},
          "execution_count": 45
        }
      ]
    },
    {
      "cell_type": "code",
      "source": [
        "new_model.eval()"
      ],
      "metadata": {
        "colab": {
          "base_uri": "https://localhost:8080/"
        },
        "id": "VZFNGEUdc16u",
        "outputId": "2aedf444-859a-4b15-f1ff-41f471032a98"
      },
      "execution_count": 46,
      "outputs": [
        {
          "output_type": "execute_result",
          "data": {
            "text/plain": [
              "ConvolutionalNetwork(\n",
              "  (conv1): Conv2d(1, 6, kernel_size=(3, 3), stride=(1, 1))\n",
              "  (conv2): Conv2d(6, 16, kernel_size=(3, 3), stride=(1, 1))\n",
              "  (fc1): Linear(in_features=400, out_features=120, bias=True)\n",
              "  (fc2): Linear(in_features=120, out_features=84, bias=True)\n",
              "  (fc3): Linear(in_features=84, out_features=10, bias=True)\n",
              ")"
            ]
          },
          "metadata": {},
          "execution_count": 46
        }
      ]
    },
    {
      "cell_type": "code",
      "source": [],
      "metadata": {
        "id": "MkcmPH6hc5Rb"
      },
      "execution_count": null,
      "outputs": []
    }
  ]
}